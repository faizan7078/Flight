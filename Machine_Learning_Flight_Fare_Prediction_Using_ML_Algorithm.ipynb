{
  "nbformat": 4,
  "nbformat_minor": 0,
  "metadata": {
    "colab": {
      "name": "Machine Learning : Flight Fare Prediction Using ML Algorithm",
      "private_outputs": true,
      "provenance": [],
      "mount_file_id": "1BmWP6m2VypnWbP1fX4tvso_BgQ5ba6LF",
      "authorship_tag": "ABX9TyMKFmec/YLWq9WiE4C3hnm1",
      "include_colab_link": true
    },
    "kernelspec": {
      "name": "python3",
      "display_name": "Python 3"
    },
    "language_info": {
      "name": "python"
    }
  },
  "cells": [
    {
      "cell_type": "markdown",
      "metadata": {
        "id": "view-in-github",
        "colab_type": "text"
      },
      "source": [
        "<a href=\"https://colab.research.google.com/github/faizan7078/Flight/blob/main/Machine_Learning_Flight_Fare_Prediction_Using_ML_Algorithm.ipynb\" target=\"_parent\"><img src=\"https://colab.research.google.com/assets/colab-badge.svg\" alt=\"Open In Colab\"/></a>"
      ]
    },
    {
      "cell_type": "code",
      "metadata": {
        "id": "6mq5RsDZ7nN9"
      },
      "source": [
        "import numpy as np\n",
        "import pandas as pd\n",
        "import matplotlib.pyplot as plt\n",
        "import seaborn as sns \n",
        "sns.set()"
      ],
      "execution_count": null,
      "outputs": []
    },
    {
      "cell_type": "markdown",
      "metadata": {
        "id": "zzUlYzG1jYgL"
      },
      "source": [
        "**importing dataset**"
      ]
    },
    {
      "cell_type": "code",
      "metadata": {
        "id": "KGTzm_MxjUOI"
      },
      "source": [
        "train_data = pd.read_excel(r\"/content/Data_Train.xlsx\")"
      ],
      "execution_count": null,
      "outputs": []
    },
    {
      "cell_type": "code",
      "metadata": {
        "id": "AVY92tugjUG1"
      },
      "source": [
        ""
      ],
      "execution_count": null,
      "outputs": []
    },
    {
      "cell_type": "code",
      "metadata": {
        "id": "nzYPcgUjjUJM"
      },
      "source": [
        "pd.set_option('display.max_columns',None)"
      ],
      "execution_count": null,
      "outputs": []
    },
    {
      "cell_type": "code",
      "metadata": {
        "id": "_O9YRoc9nEYc"
      },
      "source": [
        "train_data.head()"
      ],
      "execution_count": null,
      "outputs": []
    },
    {
      "cell_type": "code",
      "metadata": {
        "id": "utFOd0cIjUDZ"
      },
      "source": [
        "train_data.info()"
      ],
      "execution_count": null,
      "outputs": []
    },
    {
      "cell_type": "code",
      "metadata": {
        "id": "DYPvug4OjUAn"
      },
      "source": [
        "train_data.isnull().any()"
      ],
      "execution_count": null,
      "outputs": []
    },
    {
      "cell_type": "code",
      "metadata": {
        "id": "FNdSVVZvjT8A"
      },
      "source": [
        "train_data.describe().T"
      ],
      "execution_count": null,
      "outputs": []
    },
    {
      "cell_type": "code",
      "metadata": {
        "id": "IeF_h1eFjT6A"
      },
      "source": [
        "train_data['Duration'].value_counts()"
      ],
      "execution_count": null,
      "outputs": []
    },
    {
      "cell_type": "code",
      "metadata": {
        "id": "CmLFqkUPjT2X"
      },
      "source": [
        "train_data.dropna(inplace=True)"
      ],
      "execution_count": null,
      "outputs": []
    },
    {
      "cell_type": "code",
      "metadata": {
        "id": "oalREbHKjTz9"
      },
      "source": [
        "train_data.isnull().sum()"
      ],
      "execution_count": null,
      "outputs": []
    },
    {
      "cell_type": "markdown",
      "metadata": {
        "id": "lvLNC7JksC3c"
      },
      "source": [
        "**EDA**"
      ]
    },
    {
      "cell_type": "code",
      "metadata": {
        "id": "V__6hDF3vwre"
      },
      "source": [
        "from datetime import date, datetime"
      ],
      "execution_count": null,
      "outputs": []
    },
    {
      "cell_type": "code",
      "metadata": {
        "id": "CNaJxRhEjTwn"
      },
      "source": [
        "train_data['Journey_day']=pd.to_datetime(train_data['Date_of_Journey'],format=\"%d/%m/%Y\").dt.day\n",
        "train_data['Journey_month']=pd.to_datetime(train_data['Date_of_Journey'],format=\"%d/%m/%Y\").dt.month"
      ],
      "execution_count": null,
      "outputs": []
    },
    {
      "cell_type": "code",
      "metadata": {
        "id": "i8v5XN0VjTtP"
      },
      "source": [
        "train_data.head()"
      ],
      "execution_count": null,
      "outputs": []
    },
    {
      "cell_type": "code",
      "metadata": {
        "id": "3V7u7tR75mtE"
      },
      "source": [
        "train_data.drop(['Date_of_Journey'],axis =1, inplace=True)"
      ],
      "execution_count": null,
      "outputs": []
    },
    {
      "cell_type": "code",
      "metadata": {
        "id": "8r8Jlum08f9x"
      },
      "source": [
        "train_data"
      ],
      "execution_count": null,
      "outputs": []
    },
    {
      "cell_type": "code",
      "metadata": {
        "id": "4oKFYWRy8f5u"
      },
      "source": [
        "train_data['Dep_hour']=pd.to_datetime(train_data['Dep_Time']).dt.hour\n",
        "\n",
        "train_data['Dep_min']=pd.to_datetime(train_data['Dep_Time']).dt.minute\n",
        "\n",
        "train_data.drop('Dep_Time',axis=1,inplace=True)"
      ],
      "execution_count": null,
      "outputs": []
    },
    {
      "cell_type": "code",
      "metadata": {
        "id": "dJeFqpa58f0f"
      },
      "source": [
        "train_data.head()"
      ],
      "execution_count": null,
      "outputs": []
    },
    {
      "cell_type": "code",
      "metadata": {
        "id": "rLtZRgaL8fyX"
      },
      "source": [
        "train_data['Arrival_min']=pd.to_datetime(train_data['Arrival_Time']).dt.hour\n",
        "\n",
        "train_data['Arrival_min']=pd.to_datetime(train_data['Arrival_Time']).dt.minute\n",
        "\n",
        "train_data.drop('Arrival_Time', axis=1, inplace=True)"
      ],
      "execution_count": null,
      "outputs": []
    },
    {
      "cell_type": "code",
      "metadata": {
        "id": "My4jeIs_8ftb"
      },
      "source": [
        "train_data.head()"
      ],
      "execution_count": null,
      "outputs": []
    },
    {
      "cell_type": "code",
      "metadata": {
        "id": "FjJAgUqN36nS"
      },
      "source": [
        "\n",
        "duration=list(train_data['Duration'])\n",
        "\n",
        "for i in range(len(duration)):\n",
        "  if(len(duration[i].split()))!=2:                            \n",
        "    if \"h\" in duration[i]:\n",
        "      duration[i]=duration[i].strip()+\" 0m\"\n",
        "    else:\n",
        "      duration[i]=\"0h \"+duration[i]             \n",
        "\n",
        "\n",
        "duration_hours=[]\n",
        "duration_min=[]\n",
        "\n",
        "for i in range(len(duration)):\n",
        "  duration_hours.append(int(duration[i].split(sep='h')[0]))                             \n",
        "  duration_min.append(int(duration[i].split(sep='m')[0].split()[-1]))                      "
      ],
      "execution_count": null,
      "outputs": []
    },
    {
      "cell_type": "code",
      "metadata": {
        "id": "nZikRgxL8fm5"
      },
      "source": [
        "train_data['Duration_Hour']=duration_hours\n",
        "train_data['Duration_Min']=duration_min"
      ],
      "execution_count": null,
      "outputs": []
    },
    {
      "cell_type": "code",
      "metadata": {
        "id": "YIONa8678flD"
      },
      "source": [
        "train_data.head()"
      ],
      "execution_count": null,
      "outputs": []
    },
    {
      "cell_type": "code",
      "metadata": {
        "id": "M689dMI_8fgQ"
      },
      "source": [
        "train_data.drop('Duration',axis=1,inplace=True)"
      ],
      "execution_count": null,
      "outputs": []
    },
    {
      "cell_type": "code",
      "metadata": {
        "id": "xxvgoNp98feb"
      },
      "source": [
        "train_data.head()"
      ],
      "execution_count": null,
      "outputs": []
    },
    {
      "cell_type": "markdown",
      "metadata": {
        "id": "OMBrfdJf6wCC"
      },
      "source": [
        "**Handling Categorical Data**"
      ]
    },
    {
      "cell_type": "code",
      "metadata": {
        "id": "Am8fXbvg8fMH"
      },
      "source": [
        "train_data['Airline'].value_counts()"
      ],
      "execution_count": null,
      "outputs": []
    },
    {
      "cell_type": "code",
      "metadata": {
        "id": "rgy8lPo1--kA"
      },
      "source": [
        ""
      ],
      "execution_count": null,
      "outputs": []
    },
    {
      "cell_type": "code",
      "metadata": {
        "id": "nb5vez7c8fJ-"
      },
      "source": [
        "#To check The most bought airlines\n",
        "# Airline vs price\n",
        "\n",
        "sns.catplot(y='Price',x=\"Airline\",data=train_data.sort_values('Price',ascending=False),kind='boxen',height=6,aspect=3)\n",
        "plt.show()"
      ],
      "execution_count": null,
      "outputs": []
    },
    {
      "cell_type": "markdown",
      "metadata": {
        "id": "2uOOXXWiBcBa"
      },
      "source": [
        "**OneHotEncoding**"
      ]
    },
    {
      "cell_type": "code",
      "metadata": {
        "id": "rjJd9ZFK8fHv"
      },
      "source": [
        "Airline = train_data['Airline']\n",
        "Airline = pd.get_dummies(Airline, drop_first=True)\n",
        "\n",
        "Airline.head()\n"
      ],
      "execution_count": null,
      "outputs": []
    },
    {
      "cell_type": "code",
      "metadata": {
        "id": "wX5aeBvj8fCV"
      },
      "source": [
        "train_data['Source'].value_counts()"
      ],
      "execution_count": null,
      "outputs": []
    },
    {
      "cell_type": "code",
      "metadata": {
        "id": "mLAD1XKP8e9V"
      },
      "source": [
        "#Source VS Price\n",
        "sns.catplot(y='Price',x=\"Source\",data=train_data.sort_values('Price',ascending=False))"
      ],
      "execution_count": null,
      "outputs": []
    },
    {
      "cell_type": "markdown",
      "metadata": {
        "id": "4682GXvYDRkU"
      },
      "source": [
        "**Onehotencoding for Source**"
      ]
    },
    {
      "cell_type": "code",
      "metadata": {
        "id": "LjhG0w8I8e66"
      },
      "source": [
        "\n",
        "Source=train_data[['Source']]\n",
        "Source=pd.get_dummies(Source,drop_first=True)\n",
        "Source.head()"
      ],
      "execution_count": null,
      "outputs": []
    },
    {
      "cell_type": "code",
      "metadata": {
        "id": "FxuscFYV8e1x"
      },
      "source": [
        "train_data['Destination'].value_counts()"
      ],
      "execution_count": null,
      "outputs": []
    },
    {
      "cell_type": "code",
      "metadata": {
        "id": "2Qq0IaMt8ezF"
      },
      "source": [
        "#Destination VS Price\n",
        "plt.figure(figsize=(26,12))\n",
        "plt.title('Destination VS Price Plot',fontsize=20)\n",
        "sns.set_style('darkgrid')\n",
        "sns.boxplot(y='Price',x=\"Destination\",data=train_data.sort_values('Price',ascending=False))"
      ],
      "execution_count": null,
      "outputs": []
    },
    {
      "cell_type": "markdown",
      "metadata": {
        "id": "Hn_JdEhhFbvC"
      },
      "source": [
        "**OneHotEncoding for Destination**"
      ]
    },
    {
      "cell_type": "code",
      "metadata": {
        "id": "v4A8kQ2j8euy"
      },
      "source": [
        "\n",
        "Destination=train_data[['Destination']]\n",
        "Destination=pd.get_dummies(Destination,drop_first=True)\n",
        "Destination.head()"
      ],
      "execution_count": null,
      "outputs": []
    },
    {
      "cell_type": "code",
      "metadata": {
        "id": "7AGxGXPu8esG"
      },
      "source": [
        "train_data['Route'].value_counts()"
      ],
      "execution_count": null,
      "outputs": []
    },
    {
      "cell_type": "code",
      "metadata": {
        "id": "_kg05Jb-8ems"
      },
      "source": [
        "train_data['Additional_Info'].value_counts()"
      ],
      "execution_count": null,
      "outputs": []
    },
    {
      "cell_type": "code",
      "metadata": {
        "id": "QIhL2XP68ekg"
      },
      "source": [
        "#Route and Total stops convey almost same info\n",
        "\n",
        "#Addtional Info has no significant info for our model , and also it has almost 80% of info as - \"No_info\"\n",
        "\n",
        "\n",
        "train_data.drop(['Additional_Info','Route'],axis=1,inplace=True)"
      ],
      "execution_count": null,
      "outputs": []
    },
    {
      "cell_type": "code",
      "metadata": {
        "id": "D7RPfClVHteh"
      },
      "source": [
        "train_data.head()"
      ],
      "execution_count": null,
      "outputs": []
    },
    {
      "cell_type": "code",
      "metadata": {
        "id": "3y7lHqWKG3IX"
      },
      "source": [
        "train_data['Total_Stops'].value_counts()"
      ],
      "execution_count": null,
      "outputs": []
    },
    {
      "cell_type": "code",
      "metadata": {
        "id": "eZkOIvn_HGAP"
      },
      "source": [
        "#The Data is in somewhat Order , therefore . Ordinal data - > Label Encoder should be used :\n",
        "\n",
        "train_data.replace({\n",
        "    \"non-stop\":0,\n",
        "    \"1 stop\":1,\n",
        "    \"2 stops\":2,\n",
        "    \"3 stops\":3,\n",
        "    \"4 stops\":4\n",
        "},inplace=True)"
      ],
      "execution_count": null,
      "outputs": []
    },
    {
      "cell_type": "code",
      "metadata": {
        "id": "t2iu7vyhJK2m"
      },
      "source": [
        "train_data.head()"
      ],
      "execution_count": null,
      "outputs": []
    },
    {
      "cell_type": "markdown",
      "metadata": {
        "id": "9666cLWFKbN8"
      },
      "source": [
        "**Concat**"
      ]
    },
    {
      "cell_type": "code",
      "metadata": {
        "id": "7xio8snMJK0l"
      },
      "source": [
        "# we have to add all those enocded fetaures to our main dataframe :\n",
        "train_data=pd.concat([train_data,Airline,Source,Destination],axis=1)"
      ],
      "execution_count": null,
      "outputs": []
    },
    {
      "cell_type": "code",
      "metadata": {
        "id": "5h-mCZcZJKyk"
      },
      "source": [
        "train_data.head()"
      ],
      "execution_count": null,
      "outputs": []
    },
    {
      "cell_type": "code",
      "metadata": {
        "id": "zYBTv3UwJKwM"
      },
      "source": [
        "\n",
        "train_data.drop(['Airline','Source','Destination'],axis=1,inplace=True)"
      ],
      "execution_count": null,
      "outputs": []
    },
    {
      "cell_type": "code",
      "metadata": {
        "id": "jMMzb4ShJKrH"
      },
      "source": [
        "train_data.head()"
      ],
      "execution_count": null,
      "outputs": []
    },
    {
      "cell_type": "code",
      "metadata": {
        "id": "8MXGL5iWJKkv"
      },
      "source": [
        "train_data.shape"
      ],
      "execution_count": null,
      "outputs": []
    },
    {
      "cell_type": "markdown",
      "metadata": {
        "id": "AxRRCWchNRPc"
      },
      "source": [
        "**Test Set**"
      ]
    },
    {
      "cell_type": "code",
      "metadata": {
        "id": "IwYLMGu_JKiR"
      },
      "source": [
        "test_data = pd.read_excel(r\"Test_set.xlsx\")"
      ],
      "execution_count": null,
      "outputs": []
    },
    {
      "cell_type": "code",
      "metadata": {
        "id": "cyvZvmbqPSR-"
      },
      "source": [
        "test_data.head()"
      ],
      "execution_count": null,
      "outputs": []
    },
    {
      "cell_type": "code",
      "metadata": {
        "id": "gf97EnKwPPxQ"
      },
      "source": [
        "test_data.info()"
      ],
      "execution_count": null,
      "outputs": []
    },
    {
      "cell_type": "code",
      "metadata": {
        "id": "G4wEb3gNPPvO"
      },
      "source": [
        "test_data.describe()"
      ],
      "execution_count": null,
      "outputs": []
    },
    {
      "cell_type": "code",
      "metadata": {
        "id": "vb5jk53tPPtA"
      },
      "source": [
        " #To Check For Null Values\n",
        "test_data.isnull().sum()  "
      ],
      "execution_count": null,
      "outputs": []
    },
    {
      "cell_type": "code",
      "metadata": {
        "id": "huhqKvfIPPpI"
      },
      "source": [
        "test_data.dropna(inplace=True)"
      ],
      "execution_count": null,
      "outputs": []
    },
    {
      "cell_type": "code",
      "metadata": {
        "id": "Mf3SUlKxPPl8"
      },
      "source": [
        "test_data.head()"
      ],
      "execution_count": null,
      "outputs": []
    },
    {
      "cell_type": "markdown",
      "metadata": {
        "id": "rgNZvZ1KR6GI"
      },
      "source": [
        "**Test Set PreProcessing**"
      ]
    },
    {
      "cell_type": "code",
      "metadata": {
        "id": "OubHjjgzPPjp"
      },
      "source": [
        "test_data[\"Journey_Of_day\"] = pd.to_datetime(test_data.Date_of_Journey, format=\"%d/%m/%Y\").dt.day\n",
        "test_data[\"Journey_Of_month\"] = pd.to_datetime(test_data[\"Date_of_Journey\"], format = \"%d/%m/%Y\").dt.month\n",
        "test_data.drop([\"Date_of_Journey\"], axis = 1, inplace = True)"
      ],
      "execution_count": null,
      "outputs": []
    },
    {
      "cell_type": "code",
      "metadata": {
        "id": "2FjsU4AwPPhU"
      },
      "source": [
        "test_data.head()"
      ],
      "execution_count": null,
      "outputs": []
    },
    {
      "cell_type": "code",
      "metadata": {
        "id": "gNfNeYvKPPfZ"
      },
      "source": [
        "# Dep_Time\n",
        "test_data[\"Dep_Hour\"] = pd.to_datetime(test_data[\"Dep_Time\"]).dt.hour\n",
        "test_data[\"Dep_Min\"] = pd.to_datetime(test_data[\"Dep_Time\"]).dt.minute\n",
        "test_data.drop([\"Dep_Time\"], axis = 1, inplace = True)"
      ],
      "execution_count": null,
      "outputs": []
    },
    {
      "cell_type": "code",
      "metadata": {
        "id": "x_L5pi6QPPdB"
      },
      "source": [
        "# Arrival_Time\n",
        "test_data[\"Arrival_hour\"] = pd.to_datetime(test_data.Arrival_Time).dt.hour\n",
        "test_data[\"Arrival_min\"] = pd.to_datetime(test_data.Arrival_Time).dt.minute\n",
        "test_data.drop([\"Arrival_Time\"], axis = 1, inplace = True)"
      ],
      "execution_count": null,
      "outputs": []
    },
    {
      "cell_type": "code",
      "metadata": {
        "id": "ef_nqzyDPPZB"
      },
      "source": [
        "# Duration\n",
        "duration = list(test_data[\"Duration\"])\n",
        "\n",
        "for i in range(len(duration)):\n",
        "    if len(duration[i].split()) != 2:    # Check if duration contains only hour or mins\n",
        "        if \"h\" in duration[i]:\n",
        "            duration[i] = duration[i].strip() + \" 0m\"   # Adds 0 minute\n",
        "        else:\n",
        "            duration[i] = \"0h \" + duration[i]           # Adds 0 hour\n",
        "\n",
        "duration_hours = []\n",
        "duration_mins = []\n",
        "for i in range(len(duration)):\n",
        "    duration_hours.append(int(duration[i].split(sep = \"h\")[0]))    \n",
        "    duration_mins.append(int(duration[i].split(sep = \"m\")[0].split()[-1])) "
      ],
      "execution_count": null,
      "outputs": []
    },
    {
      "cell_type": "code",
      "metadata": {
        "id": "GHMXX8E7PPSw"
      },
      "source": [
        "# Adding Duration column to test set\n",
        "test_data[\"Duration_hours\"] = duration_hours\n",
        "test_data[\"Duration_mins\"] = duration_mins\n",
        "test_data.drop([\"Duration\"], axis = 1, inplace = True)"
      ],
      "execution_count": null,
      "outputs": []
    },
    {
      "cell_type": "code",
      "metadata": {
        "id": "brj4SAKDPPQR"
      },
      "source": [
        "print(\"Airline\")\n",
        "print(\"-\"*75)\n",
        "print(test_data[\"Airline\"].value_counts())\n",
        "Airline = pd.get_dummies(test_data[\"Airline\"], drop_first= True)\n",
        "\n",
        "print()\n",
        "\n",
        "print(\"Source\")\n",
        "print(\"-\"*75)\n",
        "print(test_data[\"Source\"].value_counts())\n",
        "Source = pd.get_dummies(test_data[\"Source\"], drop_first= True)\n",
        "\n",
        "print()\n",
        "\n",
        "print(\"Destination\")\n",
        "print(\"-\"*75)\n",
        "print(test_data[\"Destination\"].value_counts())\n",
        "Destination = pd.get_dummies(test_data[\"Destination\"], drop_first = True)"
      ],
      "execution_count": null,
      "outputs": []
    },
    {
      "cell_type": "code",
      "metadata": {
        "id": "n0ZRaS4adq0q"
      },
      "source": [
        "# Route and Total_Stops are related to each other\n",
        "test_data.drop([\"Route\", \"Additional_Info\"], axis = 1, inplace = True)\n",
        "\n",
        "# Replacing Total_Stops\n",
        "test_data.replace({\"non-stop\": 0, \"1 stop\": 1, \"2 stops\": 2, \"3 stops\": 3, \"4 stops\": 4}, inplace = True)\n",
        "\n",
        "# Concatenate dataframe --> test_data + Airline + Source + Destination\n",
        "data_test = pd.concat([test_data, Airline, Source, Destination], axis = 1)\n",
        "\n",
        "data_test.drop([\"Airline\", \"Source\", \"Destination\"], axis = 1, inplace = True)"
      ],
      "execution_count": null,
      "outputs": []
    },
    {
      "cell_type": "code",
      "metadata": {
        "id": "So6areIIdqxb"
      },
      "source": [
        "#So BASICALLY , i have created a new dataframe -> data_test , with all encoded values and necessary features ONLY"
      ],
      "execution_count": null,
      "outputs": []
    },
    {
      "cell_type": "code",
      "metadata": {
        "id": "njVj7Jcadqt4"
      },
      "source": [
        "data_test.shape"
      ],
      "execution_count": null,
      "outputs": []
    },
    {
      "cell_type": "code",
      "metadata": {
        "id": "w4bZS0P1dqo_"
      },
      "source": [
        "data_test.head()"
      ],
      "execution_count": null,
      "outputs": []
    },
    {
      "cell_type": "markdown",
      "metadata": {
        "id": "o13ZfW8lg3AG"
      },
      "source": [
        "**Feature Selection**"
      ]
    },
    {
      "cell_type": "code",
      "metadata": {
        "id": "X0E7jwr-dqlp"
      },
      "source": [
        "train_data.shape"
      ],
      "execution_count": null,
      "outputs": []
    },
    {
      "cell_type": "code",
      "metadata": {
        "id": "ijEp5gCZdqhk"
      },
      "source": [
        "train_data.columns"
      ],
      "execution_count": null,
      "outputs": []
    },
    {
      "cell_type": "code",
      "metadata": {
        "id": "Hf6dLQh7dqeZ"
      },
      "source": [
        "X=train_data.loc[:,['Total_Stops', 'Price', 'Journey_day', 'Journey_month', 'Dep_hour',\n",
        "       'Dep_min', 'Arrival_min', 'Duration_Hour', 'Duration_Min', 'Air India',\n",
        "       'GoAir', 'IndiGo', 'Jet Airways', 'Jet Airways Business',\n",
        "       'Multiple carriers', 'Multiple carriers Premium economy', 'SpiceJet',\n",
        "       'Trujet', 'Vistara', 'Vistara Premium economy', 'Source_Chennai',\n",
        "       'Source_Delhi', 'Source_Kolkata', 'Source_Mumbai', 'Destination_Cochin',\n",
        "       'Destination_Delhi', 'Destination_Hyderabad', 'Destination_Kolkata',\n",
        "       'Destination_New Delhi']]"
      ],
      "execution_count": null,
      "outputs": []
    },
    {
      "cell_type": "code",
      "metadata": {
        "id": "Md4n4ZVadput"
      },
      "source": [
        "X.head()"
      ],
      "execution_count": null,
      "outputs": []
    },
    {
      "cell_type": "code",
      "metadata": {
        "id": "p308pB5knrap"
      },
      "source": [
        "y=train_data.iloc[:,1]\n",
        "y.head()"
      ],
      "execution_count": null,
      "outputs": []
    },
    {
      "cell_type": "code",
      "metadata": {
        "id": "uGhqDpHonrXp"
      },
      "source": [
        "train_data.corr()"
      ],
      "execution_count": null,
      "outputs": []
    },
    {
      "cell_type": "code",
      "metadata": {
        "id": "m4g8fi4znrRU"
      },
      "source": [
        "plt.figure(figsize=(18,18))\n",
        "sns.heatmap(train_data.corr(), annot=True, cmap='BrBG_r')\n",
        "\n",
        "plt.show()"
      ],
      "execution_count": null,
      "outputs": []
    },
    {
      "cell_type": "code",
      "metadata": {
        "id": "Pgd6UZBznrOj"
      },
      "source": [
        "train_data.corr()['Price'].sort_values(ascending=False)"
      ],
      "execution_count": null,
      "outputs": []
    },
    {
      "cell_type": "markdown",
      "metadata": {
        "id": "_AqjscvAqurC"
      },
      "source": [
        "**Model Selection**"
      ]
    },
    {
      "cell_type": "code",
      "metadata": {
        "id": "eU1zcp3jnrKi"
      },
      "source": [
        "from sklearn.ensemble import ExtraTreesRegressor\n",
        "selection=ExtraTreesRegressor()\n",
        "selection.fit(X,y)"
      ],
      "execution_count": null,
      "outputs": []
    },
    {
      "cell_type": "code",
      "metadata": {
        "id": "iobUQkYDnrHq"
      },
      "source": [
        "important_feat=selection.feature_importances_"
      ],
      "execution_count": null,
      "outputs": []
    },
    {
      "cell_type": "code",
      "metadata": {
        "id": "KpaEyzyUrYDb"
      },
      "source": [
        "pd.Series(important_feat,index=X.columns)"
      ],
      "execution_count": null,
      "outputs": []
    },
    {
      "cell_type": "code",
      "metadata": {
        "id": "jEpov2wSrYAB"
      },
      "source": [
        "important_feats=pd.Series(important_feat,index=X.columns)"
      ],
      "execution_count": null,
      "outputs": []
    },
    {
      "cell_type": "code",
      "metadata": {
        "id": "G0NrYjbgrX9Z"
      },
      "source": [
        "important_feats.nlargest(20)"
      ],
      "execution_count": null,
      "outputs": []
    },
    {
      "cell_type": "code",
      "metadata": {
        "id": "27k-HIAtrX61"
      },
      "source": [
        "#Graphical Visualisation :\n",
        "plt.figure(figsize=(12,8))\n",
        "important_feats.nlargest(20).plot(kind='barh')"
      ],
      "execution_count": null,
      "outputs": []
    },
    {
      "cell_type": "markdown",
      "metadata": {
        "id": "VFTaciUFCZZ0"
      },
      "source": [
        "**Model Fitting : Random Forest Rgressor**"
      ]
    },
    {
      "cell_type": "code",
      "metadata": {
        "id": "YtGUj10HrXy4"
      },
      "source": [
        "from sklearn.ensemble import RandomForestRegressor\n",
        "from sklearn.model_selection import train_test_split"
      ],
      "execution_count": null,
      "outputs": []
    },
    {
      "cell_type": "code",
      "metadata": {
        "id": "DvohYkTFrXqI"
      },
      "source": [
        "X_train,X_test,y_train,y_test=train_test_split(X,y,test_size=0.2,random_state=40)"
      ],
      "execution_count": null,
      "outputs": []
    },
    {
      "cell_type": "code",
      "metadata": {
        "id": "tMA8_2FarXnU"
      },
      "source": [
        "rfc_model=RandomForestRegressor()\n",
        "rfc_model.fit(X_train,y_train)"
      ],
      "execution_count": null,
      "outputs": []
    },
    {
      "cell_type": "code",
      "metadata": {
        "id": "EL_MlDKpDBRc"
      },
      "source": [
        "pred=rfc_model.predict(X_test)"
      ],
      "execution_count": null,
      "outputs": []
    },
    {
      "cell_type": "code",
      "metadata": {
        "id": "3SHf_jqPDBEb"
      },
      "source": [
        "pred"
      ],
      "execution_count": null,
      "outputs": []
    },
    {
      "cell_type": "code",
      "metadata": {
        "id": "asTiE8MRDBB0"
      },
      "source": [
        "comp_df=pd.DataFrame({'Actual Values':y_test,'Predicted Values':pred})"
      ],
      "execution_count": null,
      "outputs": []
    },
    {
      "cell_type": "code",
      "metadata": {
        "id": "ach3vspLDA_R"
      },
      "source": [
        "comp_df"
      ],
      "execution_count": null,
      "outputs": []
    },
    {
      "cell_type": "markdown",
      "metadata": {
        "id": "198Xm0SHDZUh"
      },
      "source": [
        "**Evaluation :**"
      ]
    },
    {
      "cell_type": "code",
      "metadata": {
        "id": "ZHDpNG_WDA2d"
      },
      "source": [
        "rfc_model.score(X_train,y_train)"
      ],
      "execution_count": null,
      "outputs": []
    },
    {
      "cell_type": "code",
      "metadata": {
        "id": "rFGzc7avDAzu"
      },
      "source": [
        "rfc_model.score(X_test,y_test)"
      ],
      "execution_count": null,
      "outputs": []
    },
    {
      "cell_type": "code",
      "metadata": {
        "id": "IIO0g82sDAwE"
      },
      "source": [
        "#DistPlot  For Original Values VS Prediccted Values :\n",
        "sns.distplot(y_test-pred)"
      ],
      "execution_count": null,
      "outputs": []
    },
    {
      "cell_type": "code",
      "metadata": {
        "id": "gkYXdCMjDAs7"
      },
      "source": [
        "plt.scatter(y_test,pred,alpha=0.5)\n",
        "plt.xlabel('Original Values : y_test')\n",
        "plt.ylabel('Predicted Values : pred')"
      ],
      "execution_count": null,
      "outputs": []
    },
    {
      "cell_type": "code",
      "metadata": {
        "id": "1jDm9sHmD8T7"
      },
      "source": [
        "from sklearn import metrics\n",
        "\n",
        "\n",
        "print('MAE:', metrics.mean_absolute_error(y_test, pred))\n",
        "print('MSE:', metrics.mean_squared_error(y_test, pred))\n",
        "print('RMSE:', np.sqrt(metrics.mean_squared_error(y_test, pred)))"
      ],
      "execution_count": null,
      "outputs": []
    },
    {
      "cell_type": "code",
      "metadata": {
        "id": "RXlWYtvXD8QG"
      },
      "source": [
        "print(\"R2 Score Of Our Model Is : \")\n",
        "print()\n",
        "metrics.r2_score(y_test, pred)"
      ],
      "execution_count": null,
      "outputs": []
    },
    {
      "cell_type": "markdown",
      "metadata": {
        "id": "TDZv81LwEOcq"
      },
      "source": [
        "**Hyperparameter Tuning :**"
      ]
    },
    {
      "cell_type": "code",
      "metadata": {
        "id": "KfFBr3n-D8Ib"
      },
      "source": [
        "from sklearn.model_selection import RandomizedSearchCV\n",
        "test=np.linspace(start=100,stop=1000,num=20)\n",
        "test"
      ],
      "execution_count": null,
      "outputs": []
    },
    {
      "cell_type": "code",
      "metadata": {
        "id": "uoFAb3PkD8F6"
      },
      "source": [
        "n_estimators=[int(x) for x in np.linspace(start=100,stop=1200,num=12)] \n",
        " \n",
        "max_depth=[int(x) for x in np.linspace(start=5,stop=30,num=6) ]\n",
        "min_samples_split=[2, 5, 10, 15,20, 100] \n",
        "min_samples_leaf=[1, 2, 5, 10] \n",
        "max_features=['auto', 'sqrt']"
      ],
      "execution_count": null,
      "outputs": []
    },
    {
      "cell_type": "code",
      "metadata": {
        "id": "hcMC9XRXD8BD"
      },
      "source": [
        "\n",
        "random_grid={\n",
        "             'n_estimators': n_estimators,\n",
        "               'max_features': max_features,\n",
        "               'max_depth': max_depth,\n",
        "               'min_samples_split': min_samples_split,\n",
        "               'min_samples_leaf': min_samples_leaf\n",
        "}"
      ],
      "execution_count": null,
      "outputs": []
    },
    {
      "cell_type": "code",
      "metadata": {
        "id": "u22sRI9GD7-S"
      },
      "source": [
        "rf_random=RandomizedSearchCV(estimator=rfc_model,param_distributions=random_grid,\n",
        "                             scoring='neg_mean_squared_error',n_iter=15,n_jobs=1,cv=5,verbose=2,\n",
        "                             random_state=42)"
      ],
      "execution_count": null,
      "outputs": []
    },
    {
      "cell_type": "code",
      "metadata": {
        "id": "icnuRw_NE3Rf"
      },
      "source": [
        "rf_random.fit(X_train,y_train)"
      ],
      "execution_count": null,
      "outputs": []
    },
    {
      "cell_type": "code",
      "metadata": {
        "id": "iUVLWAzXE3OE"
      },
      "source": [
        "rf_random.best_params_"
      ],
      "execution_count": null,
      "outputs": []
    },
    {
      "cell_type": "code",
      "metadata": {
        "id": "gEa9pk6gE3LL"
      },
      "source": [
        "pred2=rf_random.predict(X_test)"
      ],
      "execution_count": null,
      "outputs": []
    },
    {
      "cell_type": "code",
      "metadata": {
        "id": "h1kx6zyJFSKX"
      },
      "source": [
        "pred2"
      ],
      "execution_count": null,
      "outputs": []
    },
    {
      "cell_type": "code",
      "metadata": {
        "id": "bcolZJxvFSHy"
      },
      "source": [
        "plt.figure(figsize=(12,8))\n",
        "plt.title('Y_test VS RandomisedSearch CV Predictions')\n",
        "sns.distplot(y_test-pred2)"
      ],
      "execution_count": null,
      "outputs": []
    },
    {
      "cell_type": "code",
      "metadata": {
        "id": "H33tTeF3FSDQ"
      },
      "source": [
        "plt.figure(figsize = (12,8))\n",
        "plt.scatter(y_test, pred2, alpha = 0.5)\n",
        "plt.xlabel(\"y_test\")\n",
        "plt.ylabel(\"RCV predictions\")\n",
        "plt.title(\"Y_test VS Predictions RCV Scatterplot\")"
      ],
      "execution_count": null,
      "outputs": []
    },
    {
      "cell_type": "code",
      "metadata": {
        "id": "EKlWmqNKFR-X"
      },
      "source": [
        "print('MAE:', metrics.mean_absolute_error(y_test, pred2))\n",
        "print('MSE:', metrics.mean_squared_error(y_test, pred2))\n",
        "print('RMSE:', np.sqrt(metrics.mean_squared_error(y_test, pred2)))"
      ],
      "execution_count": null,
      "outputs": []
    },
    {
      "cell_type": "code",
      "metadata": {
        "id": "NuLFjYZDFsIQ"
      },
      "source": [
        "print(\"R2 Score Of Our Model Is : \")\n",
        "print()\n",
        "metrics.r2_score(y_test, pred2)"
      ],
      "execution_count": null,
      "outputs": []
    },
    {
      "cell_type": "markdown",
      "metadata": {
        "id": "wQFZu2qRF3bn"
      },
      "source": [
        "Saving And Exporting Our Mode"
      ]
    },
    {
      "cell_type": "code",
      "metadata": {
        "id": "6FOMuE3RFsFo"
      },
      "source": [
        "import pickle"
      ],
      "execution_count": null,
      "outputs": []
    },
    {
      "cell_type": "code",
      "metadata": {
        "id": "cFS5KlSzFsBB"
      },
      "source": [
        "my_file=open('flight_fa.pkl','wb')"
      ],
      "execution_count": null,
      "outputs": []
    },
    {
      "cell_type": "code",
      "metadata": {
        "id": "5qoj0loyFr-e"
      },
      "source": [
        "pickle.dump(rf_random,my_file)"
      ],
      "execution_count": null,
      "outputs": []
    },
    {
      "cell_type": "code",
      "metadata": {
        "id": "cyvRff4fGWa4"
      },
      "source": [
        "\n",
        "model=open('flight_fa.pkl','rb')\n",
        "forest=pickle.load(model)"
      ],
      "execution_count": null,
      "outputs": []
    },
    {
      "cell_type": "code",
      "metadata": {
        "id": "KajPKeHJGWYX"
      },
      "source": [
        "pred3=forest.predict(X_test)\n",
        "metrics.r2_score(y_test,pred3)"
      ],
      "execution_count": null,
      "outputs": []
    },
    {
      "cell_type": "code",
      "metadata": {
        "id": "bo_Z1TIlGWQt"
      },
      "source": [
        ""
      ],
      "execution_count": null,
      "outputs": []
    }
  ]
}